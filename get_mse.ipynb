{
 "cells": [
  {
   "cell_type": "code",
   "execution_count": 22,
   "id": "eeee049c-9b11-4403-9bb6-b90ebb27f537",
   "metadata": {},
   "outputs": [],
   "source": [
    "import deepchem as dc\n",
    "from sklearn.ensemble import RandomForestRegressor\n",
    "import optuna\n",
    "\n",
    "import pandas as pd\n",
    "import numpy as np"
   ]
  },
  {
   "cell_type": "code",
   "execution_count": 37,
   "id": "c2d1d3a2-eb21-428d-a997-47acc0c93694",
   "metadata": {},
   "outputs": [],
   "source": [
    "def load_split_dfs(input_dir):\n",
    "    test = []\n",
    "    for i in range(5):\n",
    "        test.append(pd.read_pickle(f'{input_dir}/test{i}'))\n",
    "    return test\n",
    "\n",
    "def ds_from_df_split(split_dfs, featurizer):\n",
    "    split_dss = []\n",
    "    for i in range(5):\n",
    "        df = split_dfs[i]\n",
    "        X = featurizer.featurize(df.smiles)\n",
    "        ds = dc.data.DiskDataset.from_numpy(X=X, y=np.vstack(df.label.to_numpy()), ids=df.smiles)\n",
    "        split_dss.append(ds)\n",
    "    all_dss = dc.data.DiskDataset.merge(split_dss)\n",
    "    \n",
    "    transformer = dc.trans.NormalizationTransformer(transform_y=True, dataset=all_dss)\n",
    "    for i in range(5):\n",
    "        split_dss[i] = transformer.transform(split_dss[i])\n",
    "    \n",
    "    return all_dss, split_dss, transformer\n",
    "\n",
    "def get_kfold_from_ds_split(split_dss):\n",
    "    kfold = []\n",
    "    for i in range(5):\n",
    "        temp_dss = split_dss.copy()\n",
    "        \n",
    "\n",
    "def get_random_forest_model(trial):\n",
    "    param = {\n",
    "        'n_estimators': trial.suggest_int('n_estimators', 1, 500, log=True),\n",
    "        'max_depth': trial.suggest_int('max_depth', 1, 50),\n",
    "        'min_samples_split': trial.suggest_int('min_samples_split', 2, 1000, log=True),\n",
    "        'min_samples_leaf': trial.suggest_int('min_samples_leaf', 1, 1000, log=True),\n",
    "        'max_leaf_nodes': trial.suggest_int('max_leaf_nodes', 2, 100, log=True),\n",
    "    }\n",
    "    sklearn_random_forest = RandomForestRegressor(**param, n_jobs=-1)\n",
    "    rf_model = dc.models.SklearnModel(sklearn_random_forest)\n",
    "    return rf_model\n",
    "\n",
    "def random_forest_optuna(trial, kfold):\n",
    "    rf_model = get_random_forest_model(trial)\n",
    "    mse = []\n",
    "    for k in kfold:\n",
    "        rf.fit(k[0])\n",
    "        y_pred = rf.predict(k[1])\n",
    "        y_meas = k[1].y\n",
    "        mse.append(dc.metrics.mean_squared_error(y_meas, y_pred))\n",
    "        \n",
    "    return sum(mse)/len(mse)        "
   ]
  },
  {
   "cell_type": "code",
   "execution_count": 38,
   "id": "ff350249-a1d1-45b6-a63d-ffa260c3338a",
   "metadata": {},
   "outputs": [],
   "source": [
    "split_dfs = load_split_dfs('sma1_random_split')"
   ]
  },
  {
   "cell_type": "code",
   "execution_count": 7,
   "id": "3f187d9a-3876-4782-a50d-c123f9ae6600",
   "metadata": {},
   "outputs": [],
   "source": [
    "featurizer = dc.feat.CircularFingerprint(radius=2, size=2048, chiral=True)"
   ]
  },
  {
   "cell_type": "code",
   "execution_count": 40,
   "id": "2b5e3071-8c9d-4bf6-bede-817241fa8dda",
   "metadata": {},
   "outputs": [],
   "source": [
    "all_dss, split_dss, transformer = ds_from_df_split(split_dfs, featurizer)"
   ]
  },
  {
   "cell_type": "code",
   "execution_count": null,
   "id": "0ea42152-3813-4043-9fe2-8ec9393248a6",
   "metadata": {},
   "outputs": [],
   "source": [
    "kfold = []\n",
    "for i in range(5):\n",
    "    kfold"
   ]
  },
  {
   "cell_type": "code",
   "execution_count": 46,
   "id": "09e188b6-8ca5-4ac3-bd19-75e8e7426994",
   "metadata": {},
   "outputs": [
    {
     "name": "stdout",
     "output_type": "stream",
     "text": [
      "[([1, 2, 3, 4], 0), ([0, 2, 3, 4], 1), ([0, 1, 3, 4], 2), ([0, 1, 2, 4], 3), ([0, 1, 2, 3], 4)]\n"
     ]
    }
   ],
   "source": [
    "test = []\n",
    "inp = [0, 1, 2, 3, 4]\n",
    "\n",
    "for i in range(5):\n",
    "    temp_dss = inp.copy()\n",
    "    test_ds = temp_dss.pop(i)\n",
    "    test.append((temp_dss, test_ds))\n",
    "\n",
    "print(test)"
   ]
  }
 ],
 "metadata": {
  "kernelspec": {
   "display_name": "Python 3 (ipykernel)",
   "language": "python",
   "name": "python3"
  },
  "language_info": {
   "codemirror_mode": {
    "name": "ipython",
    "version": 3
   },
   "file_extension": ".py",
   "mimetype": "text/x-python",
   "name": "python",
   "nbconvert_exporter": "python",
   "pygments_lexer": "ipython3",
   "version": "3.7.11"
  }
 },
 "nbformat": 4,
 "nbformat_minor": 5
}
