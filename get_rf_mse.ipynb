{
 "cells": [
  {
   "cell_type": "code",
   "execution_count": 39,
   "id": "eeee049c-9b11-4403-9bb6-b90ebb27f537",
   "metadata": {},
   "outputs": [],
   "source": [
    "import deepchem as dc\n",
    "from sklearn.ensemble import RandomForestRegressor\n",
    "import optuna\n",
    "optuna.logging.set_verbosity(optuna.logging.CRITICAL)\n",
    "\n",
    "import pandas as pd\n",
    "import numpy as np"
   ]
  },
  {
   "cell_type": "code",
   "execution_count": 58,
   "id": "c2d1d3a2-eb21-428d-a997-47acc0c93694",
   "metadata": {},
   "outputs": [],
   "source": [
    "def load_split_dfs(input_dir):\n",
    "    test = []\n",
    "    for i in range(5):\n",
    "        test.append(pd.read_pickle(f'{input_dir}/test{i}'))\n",
    "    return test\n",
    "\n",
    "def ds_from_df_split(split_dfs, featurizer):\n",
    "    split_dss = []\n",
    "    for i in range(5):\n",
    "        df = split_dfs[i]\n",
    "        X = featurizer.featurize(df.smiles)\n",
    "        ds = dc.data.DiskDataset.from_numpy(X=X, y=np.vstack(df.label.to_numpy()), ids=df.smiles)\n",
    "        split_dss.append(ds)\n",
    "    all_dss = dc.data.DiskDataset.merge(split_dss)\n",
    "    \n",
    "    transformer = dc.trans.NormalizationTransformer(transform_y=True, dataset=all_dss)\n",
    "    for i in range(5):\n",
    "        split_dss[i] = transformer.transform(split_dss[i])\n",
    "    \n",
    "    return all_dss, split_dss, transformer\n",
    "\n",
    "def get_kfold_from_ds_split(split_dss):\n",
    "    kfold = []\n",
    "    for i in range(5):\n",
    "        temp_dss = split_dss.copy()\n",
    "        temp_test = temp_dss.pop(i)\n",
    "        kfold.append((dc.data.DiskDataset.merge(temp_dss), temp_test))\n",
    "    return kfold"
   ]
  },
  {
   "cell_type": "code",
   "execution_count": 66,
   "id": "16b3ea7a-0a6a-476b-bf69-c91da8f98304",
   "metadata": {},
   "outputs": [],
   "source": [
    "def random_forest_model_from_trial(trial):\n",
    "    param = {\n",
    "        'n_estimators': trial.suggest_int('n_estimators', 1, 500, log=True),\n",
    "        'max_depth': trial.suggest_int('max_depth', 1, 50),\n",
    "        'min_samples_split': trial.suggest_int('min_samples_split', 2, 1000, log=True),\n",
    "        'min_samples_leaf': trial.suggest_int('min_samples_leaf', 1, 1000, log=True),\n",
    "        'max_leaf_nodes': trial.suggest_int('max_leaf_nodes', 2, 100, log=True),\n",
    "    }\n",
    "    sklearn_random_forest = RandomForestRegressor(**param, n_jobs=-1)\n",
    "    rf_model = dc.models.SklearnModel(sklearn_random_forest)\n",
    "    return rf_model\n",
    "\n",
    "def random_forest_model_from_param(param):\n",
    "    sklearn_random_forest = RandomForestRegressor(**param, n_jobs=-1)\n",
    "    rf_model = dc.models.SklearnModel(sklearn_random_forest)\n",
    "    return rf_model\n",
    "\n",
    "def random_forest_optuna(trial, kfold):\n",
    "    mse = []\n",
    "    for k in kfold:\n",
    "        rf_model = random_forest_model_from_trial(trial)\n",
    "        rf_model.fit(k[0].complete_shuffle())\n",
    "        y_pred = rf_model.predict(k[1])\n",
    "        y_meas = k[1].y\n",
    "        mse.append(dc.metrics.mean_squared_error(y_meas, y_pred))\n",
    "        \n",
    "    return sum(mse)/len(mse)    "
   ]
  },
  {
   "cell_type": "code",
   "execution_count": 57,
   "id": "f82bea21-6e6b-4cfc-9f52-4ec2e93e570f",
   "metadata": {},
   "outputs": [],
   "source": [
    "def get_feedforward_NN_model(trial):\n",
    "    pass\n",
    "\n",
    "def feedforward_NN_optuna(trial):\n",
    "    pass"
   ]
  },
  {
   "cell_type": "code",
   "execution_count": 3,
   "id": "ff350249-a1d1-45b6-a63d-ffa260c3338a",
   "metadata": {},
   "outputs": [],
   "source": [
    "split_dfs = load_split_dfs('sma1_random_split')"
   ]
  },
  {
   "cell_type": "code",
   "execution_count": 4,
   "id": "3f187d9a-3876-4782-a50d-c123f9ae6600",
   "metadata": {},
   "outputs": [],
   "source": [
    "featurizer = dc.feat.CircularFingerprint(radius=2, size=2048, chiral=True)"
   ]
  },
  {
   "cell_type": "code",
   "execution_count": 5,
   "id": "2b5e3071-8c9d-4bf6-bede-817241fa8dda",
   "metadata": {},
   "outputs": [],
   "source": [
    "all_dss, split_dss, transformer = ds_from_df_split(split_dfs, featurizer)"
   ]
  },
  {
   "cell_type": "code",
   "execution_count": 21,
   "id": "0ea42152-3813-4043-9fe2-8ec9393248a6",
   "metadata": {},
   "outputs": [],
   "source": [
    "train_tests = get_kfold_from_ds_split(split_dss)"
   ]
  },
  {
   "cell_type": "code",
   "execution_count": 63,
   "id": "cb920be6-42dc-4251-b8b7-7388e91e9081",
   "metadata": {},
   "outputs": [],
   "source": [
    "output_info = []\n",
    "\n",
    "for i,tt in enumerate(train_tests):\n",
    "    splitter = dc.splits.RandomSplitter()\n",
    "    kfold = splitter.k_fold_split(dataset=tt[0], k=5)\n",
    "    study = optuna.create_study(direction='minimize')\n",
    "    study.optimize(lambda trial: random_forest_optuna(trial, kfold), n_trials=300)\n",
    "    # study.optimize(lambda trial: random_forest_optuna(trial, kfold), timeout=30)\n",
    "    \n",
    "    test_mse = []\n",
    "    for i in range(5):\n",
    "        tuned_rf_model = random_forest_model_from_param(study.best_params)\n",
    "        tuned_rf_model.fit(tt[0].complete_shuffle()) \n",
    "        y_pred = tuned_rf_model.predict(tt[1])\n",
    "        y_meas = tt[1].y\n",
    "        test_mse.append(dc.metrics.mean_squared_error(y_meas, y_pred))\n",
    "    \n",
    "    output_info.append((i, study.best_value, str(study.best_params), sum(test_mse)/len(test_mse), test_mse))"
   ]
  },
  {
   "cell_type": "code",
   "execution_count": 65,
   "id": "b06c6787-3ef4-4f4d-84a2-cb152e94d2d3",
   "metadata": {},
   "outputs": [
    {
     "data": {
      "text/html": [
       "<div>\n",
       "<style scoped>\n",
       "    .dataframe tbody tr th:only-of-type {\n",
       "        vertical-align: middle;\n",
       "    }\n",
       "\n",
       "    .dataframe tbody tr th {\n",
       "        vertical-align: top;\n",
       "    }\n",
       "\n",
       "    .dataframe thead th {\n",
       "        text-align: right;\n",
       "    }\n",
       "</style>\n",
       "<table border=\"1\" class=\"dataframe\">\n",
       "  <thead>\n",
       "    <tr style=\"text-align: right;\">\n",
       "      <th></th>\n",
       "      <th>split_index</th>\n",
       "      <th>avg_valid_mse</th>\n",
       "      <th>best_params</th>\n",
       "      <th>avg_test_mse</th>\n",
       "      <th>test_mses</th>\n",
       "    </tr>\n",
       "  </thead>\n",
       "  <tbody>\n",
       "    <tr>\n",
       "      <th>0</th>\n",
       "      <td>4</td>\n",
       "      <td>0.992522</td>\n",
       "      <td>{'n_estimators': 68, 'max_depth': 27, 'min_sam...</td>\n",
       "      <td>0.797814</td>\n",
       "      <td>[0.8055473928327958, 0.7891457813126309, 0.790...</td>\n",
       "    </tr>\n",
       "    <tr>\n",
       "      <th>1</th>\n",
       "      <td>4</td>\n",
       "      <td>0.988161</td>\n",
       "      <td>{'n_estimators': 1, 'max_depth': 40, 'min_samp...</td>\n",
       "      <td>1.048322</td>\n",
       "      <td>[1.05021917445322, 1.0481754097235654, 1.04977...</td>\n",
       "    </tr>\n",
       "    <tr>\n",
       "      <th>2</th>\n",
       "      <td>4</td>\n",
       "      <td>0.967374</td>\n",
       "      <td>{'n_estimators': 37, 'max_depth': 17, 'min_sam...</td>\n",
       "      <td>0.860698</td>\n",
       "      <td>[0.8661830998618297, 0.8588125426985327, 0.846...</td>\n",
       "    </tr>\n",
       "    <tr>\n",
       "      <th>3</th>\n",
       "      <td>4</td>\n",
       "      <td>0.994325</td>\n",
       "      <td>{'n_estimators': 1, 'max_depth': 13, 'min_samp...</td>\n",
       "      <td>1.132869</td>\n",
       "      <td>[1.1345582014018643, 1.124664530203219, 1.1758...</td>\n",
       "    </tr>\n",
       "    <tr>\n",
       "      <th>4</th>\n",
       "      <td>4</td>\n",
       "      <td>1.035705</td>\n",
       "      <td>{'n_estimators': 1, 'max_depth': 18, 'min_samp...</td>\n",
       "      <td>1.094103</td>\n",
       "      <td>[1.1290717457640633, 1.0864907610822976, 1.110...</td>\n",
       "    </tr>\n",
       "  </tbody>\n",
       "</table>\n",
       "</div>"
      ],
      "text/plain": [
       "   split_index  avg_valid_mse  \\\n",
       "0            4       0.992522   \n",
       "1            4       0.988161   \n",
       "2            4       0.967374   \n",
       "3            4       0.994325   \n",
       "4            4       1.035705   \n",
       "\n",
       "                                         best_params  avg_test_mse  \\\n",
       "0  {'n_estimators': 68, 'max_depth': 27, 'min_sam...      0.797814   \n",
       "1  {'n_estimators': 1, 'max_depth': 40, 'min_samp...      1.048322   \n",
       "2  {'n_estimators': 37, 'max_depth': 17, 'min_sam...      0.860698   \n",
       "3  {'n_estimators': 1, 'max_depth': 13, 'min_samp...      1.132869   \n",
       "4  {'n_estimators': 1, 'max_depth': 18, 'min_samp...      1.094103   \n",
       "\n",
       "                                           test_mses  \n",
       "0  [0.8055473928327958, 0.7891457813126309, 0.790...  \n",
       "1  [1.05021917445322, 1.0481754097235654, 1.04977...  \n",
       "2  [0.8661830998618297, 0.8588125426985327, 0.846...  \n",
       "3  [1.1345582014018643, 1.124664530203219, 1.1758...  \n",
       "4  [1.1290717457640633, 1.0864907610822976, 1.110...  "
      ]
     },
     "execution_count": 65,
     "metadata": {},
     "output_type": "execute_result"
    }
   ],
   "source": [
    "out_df = pd.DataFrame(output_info, columns=['split_index', 'avg_valid_mse', 'best_params', 'avg_test_mse', 'test_mses'])\n",
    "out_df"
   ]
  }
 ],
 "metadata": {
  "kernelspec": {
   "display_name": "Python 3 (ipykernel)",
   "language": "python",
   "name": "python3"
  },
  "language_info": {
   "codemirror_mode": {
    "name": "ipython",
    "version": 3
   },
   "file_extension": ".py",
   "mimetype": "text/x-python",
   "name": "python",
   "nbconvert_exporter": "python",
   "pygments_lexer": "ipython3",
   "version": "3.7.11"
  }
 },
 "nbformat": 4,
 "nbformat_minor": 5
}
