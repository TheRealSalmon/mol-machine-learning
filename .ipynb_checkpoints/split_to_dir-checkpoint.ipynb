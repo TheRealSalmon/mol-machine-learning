{
 "cells": [
  {
   "cell_type": "code",
   "execution_count": 1,
   "id": "df76bc84-8508-49d4-ac9e-46a75574289d",
   "metadata": {},
   "outputs": [],
   "source": [
    "import deepchem as dc\n",
    "from rdkit import Chem\n",
    "from rdkit.Chem.MolStandardize.rdMolStandardize import StandardizeSmiles\n",
    "from rdkit import RDLogger\n",
    "RDLogger.DisableLog('rdApp.*')\n",
    "\n",
    "import numpy as np\n",
    "import pandas as pd\n",
    "import os"
   ]
  },
  {
   "cell_type": "code",
   "execution_count": 50,
   "id": "c6dc66ca-85f7-411d-b1aa-ae975305760a",
   "metadata": {},
   "outputs": [],
   "source": [
    "def neutralize_atoms(mol):\n",
    "    pattern = Chem.MolFromSmarts(\"[+1!h0!$([*]~[-1,-2,-3,-4]),-1!$([*]~[+1,+2,+3,+4])]\")\n",
    "    at_matches = mol.GetSubstructMatches(pattern)\n",
    "    at_matches_list = [y[0] for y in at_matches]\n",
    "    if len(at_matches_list) > 0:\n",
    "        for at_idx in at_matches_list:\n",
    "            atom = mol.GetAtomWithIdx(at_idx)\n",
    "            chg = atom.GetFormalCharge()\n",
    "            hcount = atom.GetTotalNumHs()\n",
    "            atom.SetFormalCharge(0)\n",
    "            atom.SetNumExplicitHs(hcount - chg)\n",
    "            atom.UpdatePropertyCache()\n",
    "    return mol\n",
    "\n",
    "def try_standardize(smi):\n",
    "    try:\n",
    "        return StandardizeSmiles(Chem.MolToSmiles(neutralize_atoms(Chem.MolFromSmiles(smi))))\n",
    "    except:\n",
    "        pass\n",
    "    return 'fail'\n",
    "\n",
    "def clean_up_smiles(df):\n",
    "    df['smiles'] = df['smiles'].map(lambda s: try_standardize(s))\n",
    "    df = df[df.smiles != 'fail']\n",
    "    return df\n",
    "\n",
    "def df_to_ds(df):\n",
    "    X = np.zeros(shape=(len(df),1))\n",
    "    return dc.data.DiskDataset.from_numpy(X=X, y=np.vstack(df.label.to_numpy()), ids=df.smiles)"
   ]
  },
  {
   "cell_type": "code",
   "execution_count": 51,
   "id": "fc195b7c-3ffd-4edf-9b16-6334d1551bf8",
   "metadata": {},
   "outputs": [],
   "source": [
    "path_to_pickle = 'datasets/small_dataset2_CHEMBL2114881.pkl'\n",
    "out_dir_name = ''\n",
    "splitter = 'random'\n",
    "split_type = ''\n",
    "\n",
    "df = pd.read_pickle(path_to_pickle)\n",
    "df = clean_up_smiles(df)\n",
    "ds = df_to_ds(df)"
   ]
  },
  {
   "cell_type": "code",
   "execution_count": 52,
   "id": "9228ddb7-0b6a-4918-847c-98761ec789d2",
   "metadata": {},
   "outputs": [
    {
     "data": {
      "text/html": [
       "<div>\n",
       "<style scoped>\n",
       "    .dataframe tbody tr th:only-of-type {\n",
       "        vertical-align: middle;\n",
       "    }\n",
       "\n",
       "    .dataframe tbody tr th {\n",
       "        vertical-align: top;\n",
       "    }\n",
       "\n",
       "    .dataframe thead th {\n",
       "        text-align: right;\n",
       "    }\n",
       "</style>\n",
       "<table border=\"1\" class=\"dataframe\">\n",
       "  <thead>\n",
       "    <tr style=\"text-align: right;\">\n",
       "      <th></th>\n",
       "      <th>smiles</th>\n",
       "      <th>label</th>\n",
       "    </tr>\n",
       "  </thead>\n",
       "  <tbody>\n",
       "    <tr>\n",
       "      <th>0</th>\n",
       "      <td>CN(C)c1ccc(NC2=C(Cl)C(=O)c3ccccc3C2=O)cc1</td>\n",
       "      <td>3.913711</td>\n",
       "    </tr>\n",
       "    <tr>\n",
       "      <th>1</th>\n",
       "      <td>Oc1ccc(Cl)cc1/N=C/c1c[nH]nc1O</td>\n",
       "      <td>4.522156</td>\n",
       "    </tr>\n",
       "    <tr>\n",
       "      <th>2</th>\n",
       "      <td>COc1cc(CN2CCC(C(=O)N3CCN(c4ccccc4F)CC3)CC2)ccc...</td>\n",
       "      <td>3.958528</td>\n",
       "    </tr>\n",
       "    <tr>\n",
       "      <th>3</th>\n",
       "      <td>Oc1ccccc1CNc1ccc2c(c1)OCCO2</td>\n",
       "      <td>4.022551</td>\n",
       "    </tr>\n",
       "    <tr>\n",
       "      <th>4</th>\n",
       "      <td>O=C(COc1ccc(Nc2ccccc2)cc1)OCC(=O)N1CCCCC1</td>\n",
       "      <td>4.007756</td>\n",
       "    </tr>\n",
       "    <tr>\n",
       "      <th>...</th>\n",
       "      <td>...</td>\n",
       "      <td>...</td>\n",
       "    </tr>\n",
       "    <tr>\n",
       "      <th>2049</th>\n",
       "      <td>N#CC1=C(S)N(c2ccc(F)cc2)C(c2ccco2)NC1=O</td>\n",
       "      <td>4.073503</td>\n",
       "    </tr>\n",
       "    <tr>\n",
       "      <th>2050</th>\n",
       "      <td>COc1ccc(NCc2cc3ccccc3nc2O)cc1</td>\n",
       "      <td>4.023558</td>\n",
       "    </tr>\n",
       "    <tr>\n",
       "      <th>2051</th>\n",
       "      <td>COc1cc(/C=C2/C(=O)NN(c3ccc(Cl)cc3)C2=O)cc(Br)c1O</td>\n",
       "      <td>3.985774</td>\n",
       "    </tr>\n",
       "    <tr>\n",
       "      <th>2052</th>\n",
       "      <td>COc1ccc(Br)cc1CN(C)CC(=O)NCCc1ccccc1.O=C(O)C(=O)O</td>\n",
       "      <td>4.019815</td>\n",
       "    </tr>\n",
       "    <tr>\n",
       "      <th>2053</th>\n",
       "      <td>Cc1c(O)ccc(NC(=O)/C=C/c2ccccc2)c1C</td>\n",
       "      <td>4.378305</td>\n",
       "    </tr>\n",
       "  </tbody>\n",
       "</table>\n",
       "<p>2054 rows × 2 columns</p>\n",
       "</div>"
      ],
      "text/plain": [
       "                                                 smiles     label\n",
       "0             CN(C)c1ccc(NC2=C(Cl)C(=O)c3ccccc3C2=O)cc1  3.913711\n",
       "1                         Oc1ccc(Cl)cc1/N=C/c1c[nH]nc1O  4.522156\n",
       "2     COc1cc(CN2CCC(C(=O)N3CCN(c4ccccc4F)CC3)CC2)ccc...  3.958528\n",
       "3                           Oc1ccccc1CNc1ccc2c(c1)OCCO2  4.022551\n",
       "4             O=C(COc1ccc(Nc2ccccc2)cc1)OCC(=O)N1CCCCC1  4.007756\n",
       "...                                                 ...       ...\n",
       "2049            N#CC1=C(S)N(c2ccc(F)cc2)C(c2ccco2)NC1=O  4.073503\n",
       "2050                      COc1ccc(NCc2cc3ccccc3nc2O)cc1  4.023558\n",
       "2051   COc1cc(/C=C2/C(=O)NN(c3ccc(Cl)cc3)C2=O)cc(Br)c1O  3.985774\n",
       "2052  COc1ccc(Br)cc1CN(C)CC(=O)NCCc1ccccc1.O=C(O)C(=O)O  4.019815\n",
       "2053                 Cc1c(O)ccc(NC(=O)/C=C/c2ccccc2)c1C  4.378305\n",
       "\n",
       "[2054 rows x 2 columns]"
      ]
     },
     "execution_count": 52,
     "metadata": {},
     "output_type": "execute_result"
    }
   ],
   "source": [
    "df"
   ]
  },
  {
   "cell_type": "code",
   "execution_count": 4,
   "id": "12305db5-0112-423b-bddf-17188ec16577",
   "metadata": {},
   "outputs": [],
   "source": [
    "if splitter == 'random':\n",
    "    splitter = dc.splits.RandomSplitter()\n",
    "    split_type = 'random'\n",
    "elif splitter == 'fingerprint':\n",
    "    splitter = dc.splits.FingerprintSplitter()\n",
    "    split_type = 'finger'\n",
    "elif splitter == 'scaffold':\n",
    "    splitter = dc.splits.ScaffoldSplitter()\n",
    "    split_type = 'scafld'"
   ]
  },
  {
   "cell_type": "code",
   "execution_count": 5,
   "id": "85d4b0f6-b37f-49e8-85ce-02ec8011b19e",
   "metadata": {},
   "outputs": [],
   "source": [
    "train_test_splits = random.k_fold_split(dataset=ds, k=5)"
   ]
  },
  {
   "cell_type": "code",
   "execution_count": 7,
   "id": "746d6a79-dd63-4eef-8ba8-38b064f7e75f",
   "metadata": {},
   "outputs": [],
   "source": [
    "out_dir_name = f'CHEMBL2114881_{split_type}_split'\n",
    "os.mkdir(path=out_dir_name)"
   ]
  },
  {
   "cell_type": "code",
   "execution_count": 30,
   "id": "e6df1e67-d105-4892-8c48-f74112983130",
   "metadata": {},
   "outputs": [],
   "source": [
    "for i,tt in enumerate(train_test_splits):\n",
    "    train_df = tt[0].to_dataframe()\n",
    "    train_df = train_df.rename({'ids': 'smiles', 'y': 'label'}, axis='columns').drop(['X', 'w'], axis='columns')\n",
    "    train_df.to_pickle(f'{out_dir_name}/train{i}')\n",
    "    \n",
    "    test_df = tt[1].to_dataframe()\n",
    "    test_df = test_df.rename({'ids': 'smiles', 'y': 'label'}, axis='columns').drop(['X', 'w'], axis='columns')\n",
    "    test_df.to_pickle(f'{out_dir_name}/test{i}')"
   ]
  },
  {
   "cell_type": "code",
   "execution_count": 27,
   "id": "fc4b797e-383d-46f2-8238-fd2244f1cc9e",
   "metadata": {},
   "outputs": [],
   "source": [
    "test = []\n",
    "for i in range(5):\n",
    "    test.append((pd.read_pickle(f'{out_dir_name}/train{i}'), pd.read_pickle(f'{out_dir_name}/test{i}')))"
   ]
  }
 ],
 "metadata": {
  "kernelspec": {
   "display_name": "Python 3 (ipykernel)",
   "language": "python",
   "name": "python3"
  },
  "language_info": {
   "codemirror_mode": {
    "name": "ipython",
    "version": 3
   },
   "file_extension": ".py",
   "mimetype": "text/x-python",
   "name": "python",
   "nbconvert_exporter": "python",
   "pygments_lexer": "ipython3",
   "version": "3.7.11"
  }
 },
 "nbformat": 4,
 "nbformat_minor": 5
}
