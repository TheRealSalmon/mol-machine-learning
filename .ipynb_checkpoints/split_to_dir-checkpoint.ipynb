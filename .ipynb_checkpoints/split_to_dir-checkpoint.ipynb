{
 "cells": [
  {
   "cell_type": "code",
   "execution_count": 1,
   "id": "df76bc84-8508-49d4-ac9e-46a75574289d",
   "metadata": {},
   "outputs": [],
   "source": [
    "import deepchem as dc\n",
    "from rdkit import Chem\n",
    "from rdkit.Chem.MolStandardize.rdMolStandardize import StandardizeSmiles\n",
    "from rdkit import RDLogger\n",
    "RDLogger.DisableLog('rdApp.*')\n",
    "\n",
    "import numpy as np\n",
    "import pandas as pd\n",
    "import os"
   ]
  },
  {
   "cell_type": "code",
   "execution_count": 50,
   "id": "c6dc66ca-85f7-411d-b1aa-ae975305760a",
   "metadata": {},
   "outputs": [],
   "source": [
    "def neutralize_atoms(mol):\n",
    "    pattern = Chem.MolFromSmarts(\"[+1!h0!$([*]~[-1,-2,-3,-4]),-1!$([*]~[+1,+2,+3,+4])]\")\n",
    "    at_matches = mol.GetSubstructMatches(pattern)\n",
    "    at_matches_list = [y[0] for y in at_matches]\n",
    "    if len(at_matches_list) > 0:\n",
    "        for at_idx in at_matches_list:\n",
    "            atom = mol.GetAtomWithIdx(at_idx)\n",
    "            chg = atom.GetFormalCharge()\n",
    "            hcount = atom.GetTotalNumHs()\n",
    "            atom.SetFormalCharge(0)\n",
    "            atom.SetNumExplicitHs(hcount - chg)\n",
    "            atom.UpdatePropertyCache()\n",
    "    return mol\n",
    "\n",
    "def try_standardize(smi):\n",
    "    try:\n",
    "        return StandardizeSmiles(Chem.MolToSmiles(neutralize_atoms(Chem.MolFromSmiles(smi))))\n",
    "    except:\n",
    "        pass\n",
    "    return 'fail'\n",
    "\n",
    "def clean_up_smiles(df):\n",
    "    df['smiles'] = df['smiles'].map(lambda s: try_standardize(s))\n",
    "    df = df[df.smiles != 'fail']\n",
    "    return df\n",
    "\n",
    "def df_to_ds(df):\n",
    "    X = np.zeros(shape=(len(df),1))\n",
    "    return dc.data.DiskDataset.from_numpy(X=X, y=np.vstack(df.label.to_numpy()), ids=df.smiles)"
   ]
  },
  {
   "cell_type": "code",
   "execution_count": 51,
   "id": "fc195b7c-3ffd-4edf-9b16-6334d1551bf8",
   "metadata": {},
   "outputs": [],
   "source": [
    "path_to_pickle = 'datasets/small_dataset2_CHEMBL2114881.pkl'\n",
    "out_dir_name = ''\n",
    "splitter = 'random'\n",
    "split_type = ''\n",
    "\n",
    "df = pd.read_pickle(path_to_pickle)\n",
    "df = clean_up_smiles(df)\n",
    "ds = df_to_ds(df)"
   ]
  },
  {
   "cell_type": "code",
   "execution_count": 53,
   "id": "9228ddb7-0b6a-4918-847c-98761ec789d2",
   "metadata": {},
   "outputs": [],
   "source": [
    "quit()"
   ]
  },
  {
   "cell_type": "code",
   "execution_count": 4,
   "id": "12305db5-0112-423b-bddf-17188ec16577",
   "metadata": {},
   "outputs": [],
   "source": [
    "if splitter == 'random':\n",
    "    splitter = dc.splits.RandomSplitter()\n",
    "    split_type = 'random'\n",
    "elif splitter == 'fingerprint':\n",
    "    splitter = dc.splits.FingerprintSplitter()\n",
    "    split_type = 'finger'\n",
    "elif splitter == 'scaffold':\n",
    "    splitter = dc.splits.ScaffoldSplitter()\n",
    "    split_type = 'scafld'"
   ]
  },
  {
   "cell_type": "code",
   "execution_count": 5,
   "id": "85d4b0f6-b37f-49e8-85ce-02ec8011b19e",
   "metadata": {},
   "outputs": [],
   "source": [
    "train_test_splits = random.k_fold_split(dataset=ds, k=5)"
   ]
  },
  {
   "cell_type": "code",
   "execution_count": 7,
   "id": "746d6a79-dd63-4eef-8ba8-38b064f7e75f",
   "metadata": {},
   "outputs": [],
   "source": [
    "out_dir_name = f'CHEMBL2114881_{split_type}_split'\n",
    "os.mkdir(path=out_dir_name)"
   ]
  },
  {
   "cell_type": "code",
   "execution_count": 30,
   "id": "e6df1e67-d105-4892-8c48-f74112983130",
   "metadata": {},
   "outputs": [],
   "source": [
    "for i,tt in enumerate(train_test_splits):\n",
    "    train_df = tt[0].to_dataframe()\n",
    "    train_df = train_df.rename({'ids': 'smiles', 'y': 'label'}, axis='columns').drop(['X', 'w'], axis='columns')\n",
    "    train_df.to_pickle(f'{out_dir_name}/train{i}')\n",
    "    \n",
    "    test_df = tt[1].to_dataframe()\n",
    "    test_df = test_df.rename({'ids': 'smiles', 'y': 'label'}, axis='columns').drop(['X', 'w'], axis='columns')\n",
    "    test_df.to_pickle(f'{out_dir_name}/test{i}')"
   ]
  },
  {
   "cell_type": "code",
   "execution_count": 27,
   "id": "fc4b797e-383d-46f2-8238-fd2244f1cc9e",
   "metadata": {},
   "outputs": [],
   "source": [
    "test = []\n",
    "for i in range(5):\n",
    "    test.append((pd.read_pickle(f'{out_dir_name}/train{i}'), pd.read_pickle(f'{out_dir_name}/test{i}')))"
   ]
  }
 ],
 "metadata": {
  "kernelspec": {
   "display_name": "Python 3 (ipykernel)",
   "language": "python",
   "name": "python3"
  },
  "language_info": {
   "codemirror_mode": {
    "name": "ipython",
    "version": 3
   },
   "file_extension": ".py",
   "mimetype": "text/x-python",
   "name": "python",
   "nbconvert_exporter": "python",
   "pygments_lexer": "ipython3",
   "version": "3.7.11"
  }
 },
 "nbformat": 4,
 "nbformat_minor": 5
}
