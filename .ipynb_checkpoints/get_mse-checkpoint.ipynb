{
 "cells": [
  {
   "cell_type": "code",
   "execution_count": 39,
   "id": "eeee049c-9b11-4403-9bb6-b90ebb27f537",
   "metadata": {},
   "outputs": [],
   "source": [
    "import deepchem as dc\n",
    "from sklearn.ensemble import RandomForestRegressor\n",
    "import optuna\n",
    "optuna.logging.set_verbosity(optuna.logging.CRITICAL)\n",
    "\n",
    "import pandas as pd\n",
    "import numpy as np"
   ]
  },
  {
   "cell_type": "code",
   "execution_count": 35,
   "id": "c2d1d3a2-eb21-428d-a997-47acc0c93694",
   "metadata": {},
   "outputs": [],
   "source": [
    "def load_split_dfs(input_dir):\n",
    "    test = []\n",
    "    for i in range(5):\n",
    "        test.append(pd.read_pickle(f'{input_dir}/test{i}'))\n",
    "    return test\n",
    "\n",
    "def ds_from_df_split(split_dfs, featurizer):\n",
    "    split_dss = []\n",
    "    for i in range(5):\n",
    "        df = split_dfs[i]\n",
    "        X = featurizer.featurize(df.smiles)\n",
    "        ds = dc.data.DiskDataset.from_numpy(X=X, y=np.vstack(df.label.to_numpy()), ids=df.smiles)\n",
    "        split_dss.append(ds)\n",
    "    all_dss = dc.data.DiskDataset.merge(split_dss)\n",
    "    \n",
    "    transformer = dc.trans.NormalizationTransformer(transform_y=True, dataset=all_dss)\n",
    "    for i in range(5):\n",
    "        split_dss[i] = transformer.transform(split_dss[i])\n",
    "    \n",
    "    return all_dss, split_dss, transformer\n",
    "\n",
    "def get_kfold_from_ds_split(split_dss):\n",
    "    kfold = []\n",
    "    for i in range(5):\n",
    "        temp_dss = split_dss.copy()\n",
    "        temp_test = temp_dss.pop(i)\n",
    "        kfold.append((dc.data.DiskDataset.merge(temp_dss), temp_test))\n",
    "    return kfold\n",
    "\n",
    "def get_random_forest_model(trial):\n",
    "    param = {\n",
    "        'n_estimators': trial.suggest_int('n_estimators', 1, 500, log=True),\n",
    "        'max_depth': trial.suggest_int('max_depth', 1, 50),\n",
    "        'min_samples_split': trial.suggest_int('min_samples_split', 2, 1000, log=True),\n",
    "        'min_samples_leaf': trial.suggest_int('min_samples_leaf', 1, 1000, log=True),\n",
    "        'max_leaf_nodes': trial.suggest_int('max_leaf_nodes', 2, 100, log=True),\n",
    "    }\n",
    "    sklearn_random_forest = RandomForestRegressor(**param, n_jobs=-1)\n",
    "    rf_model = dc.models.SklearnModel(sklearn_random_forest)\n",
    "    return rf_model\n",
    "\n",
    "def random_forest_optuna(trial, kfold):\n",
    "    rf_model = get_random_forest_model(trial)\n",
    "    mse = []\n",
    "    for k in kfold:\n",
    "        rf_model.fit(k[0])\n",
    "        y_pred = rf_model.predict(k[1])\n",
    "        y_meas = k[1].y\n",
    "        mse.append(dc.metrics.mean_squared_error(y_meas, y_pred))\n",
    "        \n",
    "    return sum(mse)/len(mse)        "
   ]
  },
  {
   "cell_type": "code",
   "execution_count": 3,
   "id": "ff350249-a1d1-45b6-a63d-ffa260c3338a",
   "metadata": {},
   "outputs": [],
   "source": [
    "split_dfs = load_split_dfs('sma1_random_split')"
   ]
  },
  {
   "cell_type": "code",
   "execution_count": 4,
   "id": "3f187d9a-3876-4782-a50d-c123f9ae6600",
   "metadata": {},
   "outputs": [],
   "source": [
    "featurizer = dc.feat.CircularFingerprint(radius=2, size=2048, chiral=True)"
   ]
  },
  {
   "cell_type": "code",
   "execution_count": 5,
   "id": "2b5e3071-8c9d-4bf6-bede-817241fa8dda",
   "metadata": {},
   "outputs": [],
   "source": [
    "all_dss, split_dss, transformer = ds_from_df_split(split_dfs, featurizer)"
   ]
  },
  {
   "cell_type": "code",
   "execution_count": 21,
   "id": "0ea42152-3813-4043-9fe2-8ec9393248a6",
   "metadata": {},
   "outputs": [],
   "source": [
    "train_tests = get_kfold_from_ds_split(split_dss)"
   ]
  },
  {
   "cell_type": "code",
   "execution_count": null,
   "id": "cb920be6-42dc-4251-b8b7-7388e91e9081",
   "metadata": {},
   "outputs": [],
   "source": [
    "for tt in train_tests:\n",
    "    splitter = dc.splits.RandomSplitter()\n",
    "    kfold = splitter.k_fold_split(dataset=tt[0], k=5)\n",
    "    study = optuna.create_study(direction='minimize')\n",
    "    study.optimize(lambda trial: random_forest_optuna(trial, kfold), n_trials=1000)\n",
    "    print(f'average mse on validation sets in 5-fold CV: {study.best_value}')\n",
    "    print(f'best_params: {study.best_params}')\n",
    "    \n",
    "    tuned_rf_model = get_random_forest_model(study.best_trial)\n",
    "    tuned_rf_model.fit(tt[0]) \n",
    "    y_pred = tuned_rf_model.predict(tt[1])\n",
    "    y_meas = tt[1].y\n",
    "    test_mse = dc.metrics.mean_squared_error(y_meas, y_pred)\n",
    "    print(f'mse on test set is: {test_mse}\\n')"
   ]
  }
 ],
 "metadata": {
  "kernelspec": {
   "display_name": "Python 3 (ipykernel)",
   "language": "python",
   "name": "python3"
  },
  "language_info": {
   "codemirror_mode": {
    "name": "ipython",
    "version": 3
   },
   "file_extension": ".py",
   "mimetype": "text/x-python",
   "name": "python",
   "nbconvert_exporter": "python",
   "pygments_lexer": "ipython3",
   "version": "3.7.11"
  }
 },
 "nbformat": 4,
 "nbformat_minor": 5
}
