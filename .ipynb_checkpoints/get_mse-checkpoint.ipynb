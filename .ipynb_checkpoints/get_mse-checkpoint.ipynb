{
 "cells": [
  {
   "cell_type": "code",
   "execution_count": 1,
   "id": "eeee049c-9b11-4403-9bb6-b90ebb27f537",
   "metadata": {},
   "outputs": [],
   "source": [
    "import deepchem as dc\n",
    "\n",
    "import pandas as pd"
   ]
  },
  {
   "cell_type": "code",
   "execution_count": 2,
   "id": "c2d1d3a2-eb21-428d-a997-47acc0c93694",
   "metadata": {},
   "outputs": [],
   "source": [
    "def get_df_from_splits(input_dir):\n",
    "    test = []\n",
    "    for i in range(5):\n",
    "        test.append(pd.read_pickle(f'{input_dir}/test{i}'))\n",
    "    return test"
   ]
  },
  {
   "cell_type": "code",
   "execution_count": 4,
   "id": "ff350249-a1d1-45b6-a63d-ffa260c3338a",
   "metadata": {},
   "outputs": [],
   "source": [
    "split_dfs = get_df_from_splits('sma1_random_split')"
   ]
  },
  {
   "cell_type": "code",
   "execution_count": 5,
   "id": "8f99e017-c898-4c12-9cac-78c730429763",
   "metadata": {},
   "outputs": [
    {
     "data": {
      "text/html": [
       "<div>\n",
       "<style scoped>\n",
       "    .dataframe tbody tr th:only-of-type {\n",
       "        vertical-align: middle;\n",
       "    }\n",
       "\n",
       "    .dataframe tbody tr th {\n",
       "        vertical-align: top;\n",
       "    }\n",
       "\n",
       "    .dataframe thead th {\n",
       "        text-align: right;\n",
       "    }\n",
       "</style>\n",
       "<table border=\"1\" class=\"dataframe\">\n",
       "  <thead>\n",
       "    <tr style=\"text-align: right;\">\n",
       "      <th></th>\n",
       "      <th>label</th>\n",
       "      <th>smiles</th>\n",
       "    </tr>\n",
       "  </thead>\n",
       "  <tbody>\n",
       "    <tr>\n",
       "      <th>0</th>\n",
       "      <td>4.750000</td>\n",
       "      <td>O=C(CSc1nc(O)c2ccccc2n1)c1ccc(O)c(O)c1</td>\n",
       "    </tr>\n",
       "    <tr>\n",
       "      <th>1</th>\n",
       "      <td>4.550000</td>\n",
       "      <td>Cc1ccnc(N2C(=O)c3ccccc3C2O)c1</td>\n",
       "    </tr>\n",
       "    <tr>\n",
       "      <th>2</th>\n",
       "      <td>4.650000</td>\n",
       "      <td>CC1OC(OCC2OC(Oc3c(-c4ccc(O)cc4)oc4cc(O)cc(O)c4...</td>\n",
       "    </tr>\n",
       "    <tr>\n",
       "      <th>3</th>\n",
       "      <td>4.899998</td>\n",
       "      <td>O=C(O)c1ccc(C(=O)c2ccc3c(c2)C(=O)N(CC2CCCO2)C3...</td>\n",
       "    </tr>\n",
       "    <tr>\n",
       "      <th>4</th>\n",
       "      <td>4.550000</td>\n",
       "      <td>Cc1ccc(S(=O)(=O)Nc2nc3n(n2)C(c2ccc(Cl)cc2)C=C(...</td>\n",
       "    </tr>\n",
       "    <tr>\n",
       "      <th>...</th>\n",
       "      <td>...</td>\n",
       "      <td>...</td>\n",
       "    </tr>\n",
       "    <tr>\n",
       "      <th>419</th>\n",
       "      <td>4.599999</td>\n",
       "      <td>Cc1csc(NC(=O)c2cn3ccccc3n2)n1</td>\n",
       "    </tr>\n",
       "    <tr>\n",
       "      <th>420</th>\n",
       "      <td>4.400000</td>\n",
       "      <td>CN(C)S(=O)(=O)c1cccc(-c2nn(-c3ccccc3)cc2/C=C2\\...</td>\n",
       "    </tr>\n",
       "    <tr>\n",
       "      <th>421</th>\n",
       "      <td>5.000000</td>\n",
       "      <td>FC(F)(F)c1ccccc1N=C(S)N1CCN(c2ccccn2)CC1</td>\n",
       "    </tr>\n",
       "    <tr>\n",
       "      <th>422</th>\n",
       "      <td>5.099999</td>\n",
       "      <td>CCOc1ccc(C=NNc2ccc(S(=O)(=O)Nc3ccccc3C(=O)O)cc...</td>\n",
       "    </tr>\n",
       "    <tr>\n",
       "      <th>423</th>\n",
       "      <td>4.550000</td>\n",
       "      <td>CSc1ccc(/C=N/NC(=O)c2cccc(O)c2)cc1</td>\n",
       "    </tr>\n",
       "  </tbody>\n",
       "</table>\n",
       "<p>424 rows × 2 columns</p>\n",
       "</div>"
      ],
      "text/plain": [
       "        label                                             smiles\n",
       "0    4.750000             O=C(CSc1nc(O)c2ccccc2n1)c1ccc(O)c(O)c1\n",
       "1    4.550000                      Cc1ccnc(N2C(=O)c3ccccc3C2O)c1\n",
       "2    4.650000  CC1OC(OCC2OC(Oc3c(-c4ccc(O)cc4)oc4cc(O)cc(O)c4...\n",
       "3    4.899998  O=C(O)c1ccc(C(=O)c2ccc3c(c2)C(=O)N(CC2CCCO2)C3...\n",
       "4    4.550000  Cc1ccc(S(=O)(=O)Nc2nc3n(n2)C(c2ccc(Cl)cc2)C=C(...\n",
       "..        ...                                                ...\n",
       "419  4.599999                      Cc1csc(NC(=O)c2cn3ccccc3n2)n1\n",
       "420  4.400000  CN(C)S(=O)(=O)c1cccc(-c2nn(-c3ccccc3)cc2/C=C2\\...\n",
       "421  5.000000           FC(F)(F)c1ccccc1N=C(S)N1CCN(c2ccccn2)CC1\n",
       "422  5.099999  CCOc1ccc(C=NNc2ccc(S(=O)(=O)Nc3ccccc3C(=O)O)cc...\n",
       "423  4.550000                 CSc1ccc(/C=N/NC(=O)c2cccc(O)c2)cc1\n",
       "\n",
       "[424 rows x 2 columns]"
      ]
     },
     "execution_count": 5,
     "metadata": {},
     "output_type": "execute_result"
    }
   ],
   "source": [
    "split_dfs[0]"
   ]
  }
 ],
 "metadata": {
  "kernelspec": {
   "display_name": "Python 3 (ipykernel)",
   "language": "python",
   "name": "python3"
  },
  "language_info": {
   "codemirror_mode": {
    "name": "ipython",
    "version": 3
   },
   "file_extension": ".py",
   "mimetype": "text/x-python",
   "name": "python",
   "nbconvert_exporter": "python",
   "pygments_lexer": "ipython3",
   "version": "3.7.11"
  }
 },
 "nbformat": 4,
 "nbformat_minor": 5
}
