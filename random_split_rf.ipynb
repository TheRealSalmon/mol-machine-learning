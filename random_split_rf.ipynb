{
 "cells": [
  {
   "cell_type": "code",
   "execution_count": 82,
   "id": "36e2ebf9-03f8-48b9-9897-f8bfd75184af",
   "metadata": {},
   "outputs": [],
   "source": [
    "import pandas as pd\n",
    "import numpy as np\n",
    "import deepchem as dc\n",
    "from sklearn.ensemble import RandomForestRegressor\n",
    "import optuna\n",
    "\n",
    "import matplotlib.pyplot as plt\n",
    "import matplotlib.lines as mlines"
   ]
  },
  {
   "cell_type": "code",
   "execution_count": 2,
   "id": "34257a96-80e2-428f-919a-4566c14f4bd8",
   "metadata": {},
   "outputs": [
    {
     "data": {
      "text/html": [
       "<div>\n",
       "<style scoped>\n",
       "    .dataframe tbody tr th:only-of-type {\n",
       "        vertical-align: middle;\n",
       "    }\n",
       "\n",
       "    .dataframe tbody tr th {\n",
       "        vertical-align: top;\n",
       "    }\n",
       "\n",
       "    .dataframe thead th {\n",
       "        text-align: right;\n",
       "    }\n",
       "</style>\n",
       "<table border=\"1\" class=\"dataframe\">\n",
       "  <thead>\n",
       "    <tr style=\"text-align: right;\">\n",
       "      <th></th>\n",
       "      <th>smiles</th>\n",
       "      <th>label</th>\n",
       "    </tr>\n",
       "  </thead>\n",
       "  <tbody>\n",
       "    <tr>\n",
       "      <th>2118</th>\n",
       "      <td>COc1ccc(-c2nc3ccccc3s2)cc1</td>\n",
       "      <td>4.500000</td>\n",
       "    </tr>\n",
       "    <tr>\n",
       "      <th>2119</th>\n",
       "      <td>Cn1nnnc1SCC1=C(C(=O)O)N2C(=O)C(NC(=O)C3CC3c3cc...</td>\n",
       "      <td>4.450000</td>\n",
       "    </tr>\n",
       "    <tr>\n",
       "      <th>2120</th>\n",
       "      <td>O=C(O)C1=C(C(=O)O)C2CCC1C2</td>\n",
       "      <td>4.599999</td>\n",
       "    </tr>\n",
       "    <tr>\n",
       "      <th>2121</th>\n",
       "      <td>Cc1ccsc1C(=O)Nc1ccc2c(c1)OCCO2</td>\n",
       "      <td>4.550000</td>\n",
       "    </tr>\n",
       "    <tr>\n",
       "      <th>2122</th>\n",
       "      <td>COc1cc(OC)cc(C(=O)Nc2ccc3c(c2)OCCO3)c1</td>\n",
       "      <td>4.675000</td>\n",
       "    </tr>\n",
       "  </tbody>\n",
       "</table>\n",
       "</div>"
      ],
      "text/plain": [
       "                                                 smiles     label\n",
       "2118                         COc1ccc(-c2nc3ccccc3s2)cc1  4.500000\n",
       "2119  Cn1nnnc1SCC1=C(C(=O)O)N2C(=O)C(NC(=O)C3CC3c3cc...  4.450000\n",
       "2120                         O=C(O)C1=C(C(=O)O)C2CCC1C2  4.599999\n",
       "2121                     Cc1ccsc1C(=O)Nc1ccc2c(c1)OCCO2  4.550000\n",
       "2122             COc1cc(OC)cc(C(=O)Nc2ccc3c(c2)OCCO3)c1  4.675000"
      ]
     },
     "execution_count": 2,
     "metadata": {},
     "output_type": "execute_result"
    }
   ],
   "source": [
    "path_to_pickle = 'datasets/small_dataset1_CHEMBL1963937.pkl'\n",
    "\n",
    "small_dataset1 = pd.read_pickle(path_to_pickle)\n",
    "small_dataset1.tail()"
   ]
  },
  {
   "cell_type": "code",
   "execution_count": 3,
   "id": "99d17285-0dc4-43ac-a84d-e49164365658",
   "metadata": {},
   "outputs": [
    {
     "data": {
      "image/png": "[encoded data removed]",
      "text/plain": [
       "<Figure size 432x288 with 1 Axes>"
      ]
     },
     "metadata": {
      "needs_background": "light"
     },
     "output_type": "display_data"
    }
   ],
   "source": [
    "smiles = small_dataset1.smiles.to_numpy()\n",
    "labels = np.vstack(small_dataset1.label.to_numpy())\n",
    "plt.hist(labels)\n",
    "plt.show()"
   ]
  },
  {
   "cell_type": "code",
   "execution_count": 4,
   "id": "ad470812-a7bb-489c-b36f-4671a60323f1",
   "metadata": {},
   "outputs": [],
   "source": [
    "featurizer = dc.feat.CircularFingerprint(radius=2, size=2048)\n",
    "features = featurizer.featurize(smiles)\n",
    "disk_dataset = dc.data.DiskDataset.from_numpy(X=features, y=labels, ids=smiles)\n",
    "\n",
    "transformer = dc.trans.NormalizationTransformer(transform_y=True, dataset=disk_dataset)\n",
    "disk_dataset_norm = transformer.transform(disk_dataset)\n",
    "\n",
    "splitter = dc.splits.RandomSplitter()\n",
    "train, test = splitter.train_test_split(disk_dataset_norm, frac_train=0.833333)\n",
    "kfold = splitter.k_fold_split(train, k=5)"
   ]
  },
  {
   "cell_type": "code",
   "execution_count": null,
   "id": "1cfcc851-2422-4414-bdcd-3834edf5ef4f",
   "metadata": {},
   "outputs": [],
   "source": [
    "for k in kfold:\n",
    "    untransformed_labels = transformer.untransform(k[1].y)\n",
    "    plt.hist(untransformed_labels)\n",
    "    plt.show()"
   ]
  },
  {
   "cell_type": "code",
   "execution_count": 6,
   "id": "61803eec-16f5-4793-8b46-b97830cbc979",
   "metadata": {},
   "outputs": [],
   "source": [
    "sklearn_random_forest = RandomForestRegressor(n_estimators=100, criterion='squared_error', max_depth=None, min_samples_split=2, \n",
    "                                      min_samples_leaf=1, min_weight_fraction_leaf=0.0, max_features='auto', max_leaf_nodes=None,\n",
    "                                      min_impurity_decrease=0.0, bootstrap=True, n_jobs=8, verbose=1)"
   ]
  },
  {
   "cell_type": "code",
   "execution_count": 15,
   "id": "0186f879-8177-41dc-98eb-101df61c89ee",
   "metadata": {},
   "outputs": [],
   "source": [
    "def disk_dataset_from_pickle(path_to_pickle, featurizer, transformer):\n",
    "    df = pd.read_pickle(path_to_pickle)\n",
    "    smiles = df.smiles.to_numpy()\n",
    "    labels = np.vstack(df.label.to_numpy())\n",
    "    \n",
    "    features = featurizer.featurize(smiles)\n",
    "    dataset = dc.data.DiskDataset.from_numpy(X=features, y=labels, ids=smiles)\n",
    "    dataset = transformer.transform(dataset)\n",
    "    \n",
    "    return dataset, transformer"
   ]
  },
  {
   "cell_type": "code",
   "execution_count": 16,
   "id": "c4b66e17-d1a5-4976-b3c2-0026aac428cc",
   "metadata": {},
   "outputs": [],
   "source": [
    "ft = dc.feat.CircularFingerprint(radius=2, size=2048)\n",
    "tf = dc.trans.NormalizationTransformer(transform_y=True, dataset=disk_dataset)\n",
    "\n",
    "ds, tf = disk_dataset_from_pickle('datasets/small_dataset1_CHEMBL1963937.pkl', ft, tf)"
   ]
  },
  {
   "cell_type": "code",
   "execution_count": 19,
   "id": "0821daf7-3e14-4fb7-9bbd-d9a55f4acb2a",
   "metadata": {},
   "outputs": [],
   "source": [
    "def split_dataset(dataset, n_kfold, splitter):\n",
    "    train, test = splitter.train_test_split(dataset, frac_train=0.8)\n",
    "    kfold = splitter.k_fold_split(train, k=n_kfold)\n",
    "    \n",
    "    return kfold, test, train"
   ]
  },
  {
   "cell_type": "code",
   "execution_count": 47,
   "id": "f99e1971-cfac-493c-ba67-8c8b42b8df98",
   "metadata": {},
   "outputs": [],
   "source": [
    "sp = dc.splits.RandomSplitter()\n",
    "\n",
    "kfold, test = split_dataset(ds, 5, sp)"
   ]
  },
  {
   "cell_type": "code",
   "execution_count": 48,
   "id": "65121480-e25b-414f-9119-388ce142d21e",
   "metadata": {},
   "outputs": [
    {
     "data": {
      "text/plain": [
       "5"
      ]
     },
     "execution_count": 48,
     "metadata": {},
     "output_type": "execute_result"
    }
   ],
   "source": [
    "len(kfold)"
   ]
  },
  {
   "cell_type": "code",
   "execution_count": 74,
   "id": "1114635f-792f-4a19-be7f-b44b5317fbae",
   "metadata": {},
   "outputs": [],
   "source": [
    "def objective(trial, kfold, transformer):\n",
    "    param = {\n",
    "        'n_estimators': trial.suggest_int('n_estimators', 1, 500, log=True),\n",
    "        'max_depth': trial.suggest_int('max_depth', 1, 50),\n",
    "        'min_samples_split': trial.suggest_int('min_samples_split', 2, 1000, log=True),\n",
    "        'min_samples_leaf': trial.suggest_int('min_samples_leaf', 1, 1000, log=True),\n",
    "        'max_leaf_nodes': trial.suggest_int('max_leaf_nodes', 2, 100, log=True),\n",
    "    }\n",
    "    \n",
    "    sklearn_random_forest = RandomForestRegressor(**param, n_jobs=-1)\n",
    "    rf = dc.models.SklearnModel(sklearn_random_forest)\n",
    "    \n",
    "    mse = []\n",
    "    for k in kfold:\n",
    "        rf.fit(k[0])\n",
    "        y_pred = rf.predict(k[1], transformers=[transformer])\n",
    "        y_meas = transformer.untransform(k[1].y)\n",
    "        mse.append(dc.metrics.mean_squared_error(y_meas, y_pred))\n",
    "        \n",
    "    return sum(mse)/len(mse)        "
   ]
  },
  {
   "cell_type": "code",
   "execution_count": null,
   "id": "809095eb-4255-4e5d-98c2-fdb7560edf3a",
   "metadata": {},
   "outputs": [],
   "source": [
    "study = optuna.create_study(direction='minimize')\n",
    "study.optimize(lambda trial: objective(trial, kfold, tf), n_trials=10)"
   ]
  },
  {
   "cell_type": "code",
   "execution_count": 76,
   "id": "167d7156-f7f6-41dd-b1e9-a6d5c5d56ea8",
   "metadata": {},
   "outputs": [
    {
     "data": {
      "text/plain": [
       "{'n_estimators': 224,\n",
       " 'max_depth': 27,\n",
       " 'min_samples_split': 22,\n",
       " 'min_samples_leaf': 2,\n",
       " 'max_leaf_nodes': 24}"
      ]
     },
     "execution_count": 76,
     "metadata": {},
     "output_type": "execute_result"
    }
   ],
   "source": [
    "study.best_params"
   ]
  },
  {
   "cell_type": "code",
   "execution_count": 100,
   "id": "d70618ce-b6ae-4a5a-bd4f-a9ab630badb1",
   "metadata": {},
   "outputs": [],
   "source": [
    "sklearn_random_forest = RandomForestRegressor(**study.best_params, n_jobs=-1)\n",
    "rf = dc.models.SklearnModel(sklearn_random_forest, model_dir='.')\n",
    "rf.fit(k[0])"
   ]
  },
  {
   "cell_type": "code",
   "execution_count": 98,
   "id": "f4145688-39fd-449a-8b10-b956148ff591",
   "metadata": {},
   "outputs": [
    {
     "name": "stdout",
     "output_type": "stream",
     "text": [
      "0.08004472703439074\n"
     ]
    },
    {
     "data": {
      "image/png": "[encoded data removed]",
      "text/plain": [
       "<Figure size 432x288 with 1 Axes>"
      ]
     },
     "metadata": {
      "needs_background": "light"
     },
     "output_type": "display_data"
    }
   ],
   "source": [
    "y_pred = rf.predict(train, transformers=[transformer])\n",
    "y_meas = transformer.untransform(train.y)\n",
    "print(dc.metrics.mean_squared_error(y_meas, y_pred))\n",
    "plt.scatter(y_meas, y_pred)\n",
    "plt.xlim([4.3, 6.6])\n",
    "plt.ylim([4.3, 6.6])\n",
    "plt.show()"
   ]
  },
  {
   "cell_type": "code",
   "execution_count": 101,
   "id": "64146e33-a041-4080-bfd2-7d3aa880c1f0",
   "metadata": {},
   "outputs": [],
   "source": [
    "rf.save()"
   ]
  }
 ],
 "metadata": {
  "kernelspec": {
   "display_name": "Python 3 (ipykernel)",
   "language": "python",
   "name": "python3"
  },
  "language_info": {
   "codemirror_mode": {
    "name": "ipython",
    "version": 3
   },
   "file_extension": ".py",
   "mimetype": "text/x-python",
   "name": "python",
   "nbconvert_exporter": "python",
   "pygments_lexer": "ipython3",
   "version": "3.7.11"
  }
 },
 "nbformat": 4,
 "nbformat_minor": 5
}
