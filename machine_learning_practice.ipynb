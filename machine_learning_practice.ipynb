{
 "cells": [
  {
   "cell_type": "code",
   "execution_count": 9,
   "id": "8372eb91-c49f-43fa-aac5-aaf28783ea26",
   "metadata": {},
   "outputs": [],
   "source": [
    "import pandas as pd\n",
    "import numpy as np\n",
    "import deepchem as dc\n",
    "from sklearn.ensemble import RandomForestRegressor\n",
    "\n",
    "import matplotlib.pyplot as plt"
   ]
  },
  {
   "cell_type": "code",
   "execution_count": 3,
   "id": "30f5b486-d5cb-4d49-b093-061844e41de3",
   "metadata": {},
   "outputs": [
    {
     "data": {
      "text/html": [
       "<div>\n",
       "<style scoped>\n",
       "    .dataframe tbody tr th:only-of-type {\n",
       "        vertical-align: middle;\n",
       "    }\n",
       "\n",
       "    .dataframe tbody tr th {\n",
       "        vertical-align: top;\n",
       "    }\n",
       "\n",
       "    .dataframe thead th {\n",
       "        text-align: right;\n",
       "    }\n",
       "</style>\n",
       "<table border=\"1\" class=\"dataframe\">\n",
       "  <thead>\n",
       "    <tr style=\"text-align: right;\">\n",
       "      <th></th>\n",
       "      <th>smiles</th>\n",
       "      <th>label</th>\n",
       "    </tr>\n",
       "  </thead>\n",
       "  <tbody>\n",
       "    <tr>\n",
       "      <th>2118</th>\n",
       "      <td>COc1ccc(-c2nc3ccccc3s2)cc1</td>\n",
       "      <td>4.500000</td>\n",
       "    </tr>\n",
       "    <tr>\n",
       "      <th>2119</th>\n",
       "      <td>Cn1nnnc1SCC1=C(C(=O)O)N2C(=O)C(NC(=O)C3CC3c3cc...</td>\n",
       "      <td>4.450000</td>\n",
       "    </tr>\n",
       "    <tr>\n",
       "      <th>2120</th>\n",
       "      <td>O=C(O)C1=C(C(=O)O)C2CCC1C2</td>\n",
       "      <td>4.599999</td>\n",
       "    </tr>\n",
       "    <tr>\n",
       "      <th>2121</th>\n",
       "      <td>Cc1ccsc1C(=O)Nc1ccc2c(c1)OCCO2</td>\n",
       "      <td>4.550000</td>\n",
       "    </tr>\n",
       "    <tr>\n",
       "      <th>2122</th>\n",
       "      <td>COc1cc(OC)cc(C(=O)Nc2ccc3c(c2)OCCO3)c1</td>\n",
       "      <td>4.675000</td>\n",
       "    </tr>\n",
       "  </tbody>\n",
       "</table>\n",
       "</div>"
      ],
      "text/plain": [
       "                                                 smiles     label\n",
       "2118                         COc1ccc(-c2nc3ccccc3s2)cc1  4.500000\n",
       "2119  Cn1nnnc1SCC1=C(C(=O)O)N2C(=O)C(NC(=O)C3CC3c3cc...  4.450000\n",
       "2120                         O=C(O)C1=C(C(=O)O)C2CCC1C2  4.599999\n",
       "2121                     Cc1ccsc1C(=O)Nc1ccc2c(c1)OCCO2  4.550000\n",
       "2122             COc1cc(OC)cc(C(=O)Nc2ccc3c(c2)OCCO3)c1  4.675000"
      ]
     },
     "execution_count": 3,
     "metadata": {},
     "output_type": "execute_result"
    }
   ],
   "source": [
    "small_dataset1 = pd.read_pickle('datasets/small_dataset1_CHEMBL1963937.pkl')\n",
    "small_dataset1.tail()"
   ]
  },
  {
   "cell_type": "code",
   "execution_count": 4,
   "id": "d47503b2-bddd-4b7d-8aba-3ebfadcdd376",
   "metadata": {},
   "outputs": [
    {
     "data": {
      "image/png": "[encoded data removed]",
      "text/plain": [
       "<Figure size 432x288 with 1 Axes>"
      ]
     },
     "metadata": {
      "needs_background": "light"
     },
     "output_type": "display_data"
    }
   ],
   "source": [
    "smiles = small_dataset1.smiles.to_numpy()\n",
    "labels = np.vstack(small_dataset1.label.to_numpy())\n",
    "plt.hist(labels)\n",
    "plt.show()"
   ]
  },
  {
   "cell_type": "code",
   "execution_count": 5,
   "id": "a6bd0e5e-c646-4045-b226-0011068c7181",
   "metadata": {},
   "outputs": [],
   "source": [
    "featurizer = dc.feat.CircularFingerprint(radius=2, size=2048)\n",
    "features = featurizer.featurize(smiles)"
   ]
  },
  {
   "cell_type": "code",
   "execution_count": 6,
   "id": "227fc097-cac2-46f0-acc0-3390aa640365",
   "metadata": {},
   "outputs": [],
   "source": [
    "disk_dataset = dc.data.DiskDataset.from_numpy(X=features, y=labels, ids=smiles)"
   ]
  },
  {
   "cell_type": "code",
   "execution_count": 32,
   "id": "7df8d08c-4ef4-48de-b2ce-6c97e6dbda64",
   "metadata": {},
   "outputs": [],
   "source": [
    "transformer = dc.trans.NormalizationTransformer(transform_y=True, dataset=disk_dataset)"
   ]
  },
  {
   "cell_type": "code",
   "execution_count": 33,
   "id": "8fe04a1c-86bc-49a4-9942-76892f303772",
   "metadata": {},
   "outputs": [],
   "source": [
    "disk_dataset_norm = transformer.transform(disk_dataset)"
   ]
  },
  {
   "cell_type": "code",
   "execution_count": 38,
   "id": "5370002e-13fe-4660-be8a-15bb15b11bf8",
   "metadata": {},
   "outputs": [],
   "source": [
    "splitter = dc.splits.RandomSplitter()\n",
    "train, test = splitter.train_test_split(disk_dataset_norm, frac_train=0.833333)\n",
    "kfold = splitter.k_fold_split(train, k=5)"
   ]
  },
  {
   "cell_type": "code",
   "execution_count": null,
   "id": "e01b5cf8-0fb5-45be-9ad0-8445f5af51e2",
   "metadata": {},
   "outputs": [],
   "source": [
    "for k in kfold:\n",
    "    untransformed_labels = transformer.untransform(k[1].y)\n",
    "    plt.hist(untransformed_labels)\n",
    "    plt.show()"
   ]
  },
  {
   "cell_type": "code",
   "execution_count": 47,
   "id": "90edd7a5-954a-4e43-9387-5a34b2336427",
   "metadata": {},
   "outputs": [],
   "source": [
    "sklearn_random_forest = RandomForestRegressor(n_estimators=100, criterion='squared_error', max_depth=None, min_samples_split=2, \n",
    "                                      min_samples_leaf=1, min_weight_fraction_leaf=0.0, max_features='auto', max_leaf_nodes=None,\n",
    "                                      min_impurity_decrease=0.0, bootstrap=True, n_jobs=8, verbose=1)"
   ]
  },
  {
   "cell_type": "code",
   "execution_count": 48,
   "id": "d9929dfb-fc31-4a54-9670-d1ae31b1dbdc",
   "metadata": {},
   "outputs": [],
   "source": [
    "random_forest = dc.models.SklearnModel(sklearn_random_forest)"
   ]
  },
  {
   "cell_type": "code",
   "execution_count": 49,
   "id": "a17c2204-2a18-4f9d-9da2-0ee8de8f55ef",
   "metadata": {},
   "outputs": [
    {
     "name": "stderr",
     "output_type": "stream",
     "text": [
      "[Parallel(n_jobs=8)]: Using backend ThreadingBackend with 8 concurrent workers.\n",
      "[Parallel(n_jobs=8)]: Done  34 tasks      | elapsed:    4.6s\n",
      "[Parallel(n_jobs=8)]: Done 100 out of 100 | elapsed:   12.5s finished\n"
     ]
    }
   ],
   "source": [
    "random_forest.fit(kfold[0][0])"
   ]
  },
  {
   "cell_type": "code",
   "execution_count": 73,
   "id": "e2ba26d1-a725-4e01-9440-b3d6d69c55cc",
   "metadata": {},
   "outputs": [
    {
     "name": "stdout",
     "output_type": "stream",
     "text": [
      "the MSE is 0.01380868155885718 and R2 is 0.8585997185056777\n"
     ]
    },
    {
     "name": "stderr",
     "output_type": "stream",
     "text": [
      "[Parallel(n_jobs=8)]: Using backend ThreadingBackend with 8 concurrent workers.\n",
      "[Parallel(n_jobs=8)]: Done  34 tasks      | elapsed:    0.0s\n",
      "[Parallel(n_jobs=8)]: Done 100 out of 100 | elapsed:    0.0s finished\n"
     ]
    }
   ],
   "source": [
    "metrics = random_forest.evaluate(dataset=kfold[0][0], metrics=[dc.metrics.mean_squared_error, dc.metrics.r2_score], transformers=[transformer])\n",
    "mse = metrics['metric-1']\n",
    "r2 = metrics['metric-2']\n",
    "print(f'the MSE is {mse} and R2 is {r2}')"
   ]
  },
  {
   "cell_type": "code",
   "execution_count": 85,
   "id": "4b8d6b1f-8f42-4173-9b4e-391ea64aa42e",
   "metadata": {},
   "outputs": [
    {
     "name": "stderr",
     "output_type": "stream",
     "text": [
      "[Parallel(n_jobs=8)]: Using backend ThreadingBackend with 8 concurrent workers.\n",
      "[Parallel(n_jobs=8)]: Done  34 tasks      | elapsed:    0.0s\n",
      "[Parallel(n_jobs=8)]: Done 100 out of 100 | elapsed:    0.0s finished\n"
     ]
    },
    {
     "data": {
      "text/plain": [
       "<matplotlib.collections.PathCollection at 0x7fc8d1604610>"
      ]
     },
     "execution_count": 85,
     "metadata": {},
     "output_type": "execute_result"
    },
    {
     "data": {
      "image/png": "[encoded data removed]",
      "text/plain": [
       "<Figure size 432x288 with 1 Axes>"
      ]
     },
     "metadata": {
      "needs_background": "light"
     },
     "output_type": "display_data"
    }
   ],
   "source": [
    "y_pred = random_forest.predict(kfold[0][0], transformers=[transformer])\n",
    "plt.scatter(x=kfold[0][0].y, y=y_pred)"
   ]
  },
  {
   "cell_type": "code",
   "execution_count": 74,
   "id": "40ce41f5-e8b5-4720-8012-9b580c0b572a",
   "metadata": {},
   "outputs": [
    {
     "name": "stdout",
     "output_type": "stream",
     "text": [
      "the MSE is 0.11085755374522618 and R2 is 0.07243607854337553\n"
     ]
    },
    {
     "name": "stderr",
     "output_type": "stream",
     "text": [
      "[Parallel(n_jobs=8)]: Using backend ThreadingBackend with 8 concurrent workers.\n",
      "[Parallel(n_jobs=8)]: Done  34 tasks      | elapsed:    0.0s\n",
      "[Parallel(n_jobs=8)]: Done 100 out of 100 | elapsed:    0.0s finished\n"
     ]
    }
   ],
   "source": [
    "metrics = random_forest.evaluate(dataset=kfold[0][1], metrics=[dc.metrics.mean_squared_error, dc.metrics.r2_score], transformers=[transformer])\n",
    "mse = metrics['metric-1']\n",
    "r2 = metrics['metric-2']\n",
    "print(f'the MSE is {mse} and R2 is {r2}')"
   ]
  },
  {
   "cell_type": "code",
   "execution_count": 87,
   "id": "653d7b2a-8a38-478b-aaf6-9d02a1a9978e",
   "metadata": {},
   "outputs": [
    {
     "name": "stderr",
     "output_type": "stream",
     "text": [
      "[Parallel(n_jobs=8)]: Using backend ThreadingBackend with 8 concurrent workers.\n",
      "[Parallel(n_jobs=8)]: Done  34 tasks      | elapsed:    0.0s\n",
      "[Parallel(n_jobs=8)]: Done 100 out of 100 | elapsed:    0.0s finished\n"
     ]
    },
    {
     "data": {
      "text/plain": [
       "<matplotlib.collections.PathCollection at 0x7fc8d4a1f210>"
      ]
     },
     "execution_count": 87,
     "metadata": {},
     "output_type": "execute_result"
    },
    {
     "data": {
      "image/png": "[encoded data removed]",
      "text/plain": [
       "<Figure size 432x288 with 1 Axes>"
      ]
     },
     "metadata": {
      "needs_background": "light"
     },
     "output_type": "display_data"
    }
   ],
   "source": [
    "y_pred = random_forest.predict(kfold[0][1], transformers=[transformer])\n",
    "plt.scatter(x=kfold[0][1].y, y=y_pred)"
   ]
  }
 ],
 "metadata": {
  "kernelspec": {
   "display_name": "Python 3 (ipykernel)",
   "language": "python",
   "name": "python3"
  },
  "language_info": {
   "codemirror_mode": {
    "name": "ipython",
    "version": 3
   },
   "file_extension": ".py",
   "mimetype": "text/x-python",
   "name": "python",
   "nbconvert_exporter": "python",
   "pygments_lexer": "ipython3",
   "version": "3.7.11"
  }
 },
 "nbformat": 4,
 "nbformat_minor": 5
}
